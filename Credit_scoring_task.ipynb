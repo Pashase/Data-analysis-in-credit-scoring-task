{
 "cells": [
  {
   "cell_type": "code",
   "execution_count": 1,
   "id": "fcb6225c",
   "metadata": {},
   "outputs": [],
   "source": [
    "import numpy as np\n",
    "import pandas as pd\n",
    "import seaborn as sns\n",
    "\n",
    "import scipy.stats as sts\n",
    "import matplotlib.pyplot as plt"
   ]
  },
  {
   "cell_type": "markdown",
   "id": "85a1d285",
   "metadata": {},
   "source": [
    "Константный размер для графиков"
   ]
  },
  {
   "cell_type": "code",
   "execution_count": 2,
   "id": "71e53d73",
   "metadata": {},
   "outputs": [],
   "source": [
    "sns.set(rc={'figure.figsize':(12, 7)})"
   ]
  },
  {
   "cell_type": "code",
   "execution_count": 118,
   "id": "f0387d2a",
   "metadata": {},
   "outputs": [],
   "source": [
    "df = pd.read_csv('credit_scoring_analysis.csv', sep=',')"
   ]
  },
  {
   "cell_type": "code",
   "execution_count": 67,
   "id": "7525a9ce",
   "metadata": {},
   "outputs": [
    {
     "data": {
      "text/html": [
       "<div>\n",
       "<style scoped>\n",
       "    .dataframe tbody tr th:only-of-type {\n",
       "        vertical-align: middle;\n",
       "    }\n",
       "\n",
       "    .dataframe tbody tr th {\n",
       "        vertical-align: top;\n",
       "    }\n",
       "\n",
       "    .dataframe thead th {\n",
       "        text-align: right;\n",
       "    }\n",
       "</style>\n",
       "<table border=\"1\" class=\"dataframe\">\n",
       "  <thead>\n",
       "    <tr style=\"text-align: right;\">\n",
       "      <th></th>\n",
       "      <th>ID</th>\n",
       "      <th>LIMIT_BAL</th>\n",
       "      <th>SEX</th>\n",
       "      <th>EDUCATION</th>\n",
       "      <th>MARRIAGE</th>\n",
       "      <th>AGE</th>\n",
       "      <th>PAY_0</th>\n",
       "      <th>PAY_2</th>\n",
       "      <th>PAY_3</th>\n",
       "      <th>PAY_4</th>\n",
       "      <th>...</th>\n",
       "      <th>BILL_AMT4</th>\n",
       "      <th>BILL_AMT5</th>\n",
       "      <th>BILL_AMT6</th>\n",
       "      <th>PAY_AMT1</th>\n",
       "      <th>PAY_AMT2</th>\n",
       "      <th>PAY_AMT3</th>\n",
       "      <th>PAY_AMT4</th>\n",
       "      <th>PAY_AMT5</th>\n",
       "      <th>PAY_AMT6</th>\n",
       "      <th>default</th>\n",
       "    </tr>\n",
       "  </thead>\n",
       "  <tbody>\n",
       "    <tr>\n",
       "      <th>0</th>\n",
       "      <td>1</td>\n",
       "      <td>20000</td>\n",
       "      <td>2</td>\n",
       "      <td>2</td>\n",
       "      <td>1</td>\n",
       "      <td>24</td>\n",
       "      <td>2</td>\n",
       "      <td>2</td>\n",
       "      <td>0</td>\n",
       "      <td>0</td>\n",
       "      <td>...</td>\n",
       "      <td>0</td>\n",
       "      <td>0</td>\n",
       "      <td>0</td>\n",
       "      <td>0</td>\n",
       "      <td>689</td>\n",
       "      <td>0</td>\n",
       "      <td>0</td>\n",
       "      <td>0</td>\n",
       "      <td>0</td>\n",
       "      <td>1</td>\n",
       "    </tr>\n",
       "    <tr>\n",
       "      <th>1</th>\n",
       "      <td>2</td>\n",
       "      <td>120000</td>\n",
       "      <td>2</td>\n",
       "      <td>2</td>\n",
       "      <td>2</td>\n",
       "      <td>26</td>\n",
       "      <td>0</td>\n",
       "      <td>2</td>\n",
       "      <td>0</td>\n",
       "      <td>0</td>\n",
       "      <td>...</td>\n",
       "      <td>3272</td>\n",
       "      <td>3455</td>\n",
       "      <td>3261</td>\n",
       "      <td>0</td>\n",
       "      <td>1000</td>\n",
       "      <td>1000</td>\n",
       "      <td>1000</td>\n",
       "      <td>0</td>\n",
       "      <td>2000</td>\n",
       "      <td>1</td>\n",
       "    </tr>\n",
       "    <tr>\n",
       "      <th>2</th>\n",
       "      <td>3</td>\n",
       "      <td>90000</td>\n",
       "      <td>2</td>\n",
       "      <td>2</td>\n",
       "      <td>2</td>\n",
       "      <td>34</td>\n",
       "      <td>0</td>\n",
       "      <td>0</td>\n",
       "      <td>0</td>\n",
       "      <td>0</td>\n",
       "      <td>...</td>\n",
       "      <td>14331</td>\n",
       "      <td>14948</td>\n",
       "      <td>15549</td>\n",
       "      <td>1518</td>\n",
       "      <td>1500</td>\n",
       "      <td>1000</td>\n",
       "      <td>1000</td>\n",
       "      <td>1000</td>\n",
       "      <td>5000</td>\n",
       "      <td>0</td>\n",
       "    </tr>\n",
       "  </tbody>\n",
       "</table>\n",
       "<p>3 rows × 25 columns</p>\n",
       "</div>"
      ],
      "text/plain": [
       "   ID  LIMIT_BAL  SEX  EDUCATION  MARRIAGE  AGE  PAY_0  PAY_2  PAY_3  PAY_4  \\\n",
       "0   1      20000    2          2         1   24      2      2      0      0   \n",
       "1   2     120000    2          2         2   26      0      2      0      0   \n",
       "2   3      90000    2          2         2   34      0      0      0      0   \n",
       "\n",
       "   ...  BILL_AMT4  BILL_AMT5  BILL_AMT6  PAY_AMT1  PAY_AMT2  PAY_AMT3  \\\n",
       "0  ...          0          0          0         0       689         0   \n",
       "1  ...       3272       3455       3261         0      1000      1000   \n",
       "2  ...      14331      14948      15549      1518      1500      1000   \n",
       "\n",
       "   PAY_AMT4  PAY_AMT5  PAY_AMT6  default  \n",
       "0         0         0         0        1  \n",
       "1      1000         0      2000        1  \n",
       "2      1000      1000      5000        0  \n",
       "\n",
       "[3 rows x 25 columns]"
      ]
     },
     "execution_count": 67,
     "metadata": {},
     "output_type": "execute_result"
    }
   ],
   "source": [
    "df.head(3)"
   ]
  },
  {
   "cell_type": "markdown",
   "id": "4ac1c223",
   "metadata": {},
   "source": [
    "# Размер кредитного лимита"
   ]
  },
  {
   "cell_type": "markdown",
   "id": "a3dd268d",
   "metadata": {},
   "source": [
    "Разобьем наш датасет на две подвыборки: первая будет содержать только информацию о заёмщиках, которые вернули кредит (`returned_bal`), вторая только о тех, кто не вернул (`non_returned_bal`)."
   ]
  },
  {
   "cell_type": "code",
   "execution_count": 13,
   "id": "43ffc744",
   "metadata": {},
   "outputs": [],
   "source": [
    "returned_bal = df[df['default'] == 0]\n",
    "non_returned_bal = df[df['default'] == 1]"
   ]
  },
  {
   "cell_type": "code",
   "execution_count": 14,
   "id": "1358dabe",
   "metadata": {},
   "outputs": [
    {
     "data": {
      "text/plain": [
       "<AxesSubplot:xlabel='LIMIT_BAL', ylabel='Count'>"
      ]
     },
     "execution_count": 14,
     "metadata": {},
     "output_type": "execute_result"
    },
    {
     "data": {
      "image/png": "[encoded data removed]",
      "text/plain": [
       "<Figure size 864x504 with 2 Axes>"
      ]
     },
     "metadata": {},
     "output_type": "display_data"
    }
   ],
   "source": [
    "_, ax = plt.subplots(2)\n",
    "sns.histplot(data=returned_bal, x='LIMIT_BAL', color='g', ax=ax[0])\n",
    "sns.histplot(data=non_returned_bal, x='LIMIT_BAL', color='r', ax=ax[1])"
   ]
  },
  {
   "cell_type": "code",
   "execution_count": 15,
   "id": "365baf66",
   "metadata": {},
   "outputs": [
    {
     "data": {
      "text/plain": [
       "((array([-4.01544493, -3.80115573, -3.68397676, ...,  3.68397676,\n",
       "          3.80115573,  4.01544493]),\n",
       "  array([  10000,   10000,   10000, ...,  800000,  800000, 1000000])),\n",
       " (126251.39979407027, 178099.7260743024, 0.9590119112004252))"
      ]
     },
     "execution_count": 15,
     "metadata": {},
     "output_type": "execute_result"
    },
    {
     "data": {
      "image/png": "[encoded data removed]",
      "text/plain": [
       "<Figure size 864x504 with 1 Axes>"
      ]
     },
     "metadata": {},
     "output_type": "display_data"
    }
   ],
   "source": [
    "sts.probplot(returned_bal['LIMIT_BAL'], dist='norm', plot=plt)"
   ]
  },
  {
   "cell_type": "code",
   "execution_count": 16,
   "id": "6200039e",
   "metadata": {},
   "outputs": [
    {
     "data": {
      "text/plain": [
       "((array([-3.70801024, -3.47700165, -3.34989414, ...,  3.34989414,\n",
       "          3.47700165,  3.70801024]),\n",
       "  array([ 10000,  10000,  10000, ..., 710000, 720000, 740000])),\n",
       " (106735.76934970939, 130109.65641952983, 0.9246829345320482))"
      ]
     },
     "execution_count": 16,
     "metadata": {},
     "output_type": "execute_result"
    },
    {
     "data": {
      "image/png": "[encoded data removed]",
      "text/plain": [
       "<Figure size 864x504 with 1 Axes>"
      ]
     },
     "metadata": {},
     "output_type": "display_data"
    }
   ],
   "source": [
    "sts.probplot(non_returned_bal['LIMIT_BAL'], dist='norm', plot=plt)"
   ]
  },
  {
   "cell_type": "markdown",
   "id": "e906168b",
   "metadata": {},
   "source": [
    "Распределения имеют значительные отклонения от нормального, поэтому применять параметрические критерии даже предусматривающие незначительные отклонения от нормального распределения нельзя.\n",
    "\n",
    "Поэтому воспользуемся бутстрепом и построим 95% доверительный интервал для разности медиан (можно по отдельности, главное чтобы они не пересекались) кредитного лимита между заемщиками которые вернули/нет, кредит, и посмотрим на различия между медианами выборок. Выборки являются достаточно репрезентативными.  "
   ]
  },
  {
   "cell_type": "code",
   "execution_count": 31,
   "id": "935b0bbb",
   "metadata": {},
   "outputs": [],
   "source": [
    "def get_bootstrap_samples(data, n_samples):\n",
    "    indices = np.random.randint(0, len(data), (n_samples, len(data)))\n",
    "    samples = data[indices]\n",
    "    \n",
    "    return samples\n",
    "\n",
    "def build_confint(stat_sample, alpha: float = .05):\n",
    "    boundaries = np.percentile(stat_sample, [100 * alpha / 2, 100 * (1 - alpha / 2)])\n",
    "    \n",
    "    return boundaries"
   ]
  },
  {
   "cell_type": "code",
   "execution_count": 46,
   "id": "06ee8376",
   "metadata": {},
   "outputs": [],
   "source": [
    "n_samples = 2500\n",
    "alpha = 0.05\n",
    "\n",
    "stat_sample_r = np.array(list(map(np.median, get_bootstrap_samples(returned_bal['LIMIT_BAL'].values, n_samples))))\n",
    "stat_sample_nr = np.array(list(map(np.median, get_bootstrap_samples(non_returned_bal['LIMIT_BAL'].values, n_samples))))\n",
    "\n",
    "diff_stat_sample = stat_sample_r - stat_sample_nr"
   ]
  },
  {
   "cell_type": "code",
   "execution_count": 49,
   "id": "35e04011",
   "metadata": {},
   "outputs": [
    {
     "name": "stdout",
     "output_type": "stream",
     "text": [
      "95.0% confint for people, who returned a credit: [150000. 150000.]\n",
      "\t\t\t  who not return a credit: [80000. 90000.]\n",
      "\n",
      "Or, for difference between r/nr samples: [60000. 70000.]\n"
     ]
    }
   ],
   "source": [
    "print(f'{100 - 100*alpha}% confint for people, who returned a credit: '\n",
    "      f'{build_confint(stat_sample_r ,alpha=alpha)}\\n'\n",
    "      f'\\t\\t\\t  who not return a credit: {build_confint(stat_sample_nr, alpha=alpha)}\\n')\n",
    "\n",
    "print(f'Or, for difference between r/nr samples: {build_confint(diff_stat_sample, alpha=alpha)}')"
   ]
  },
  {
   "cell_type": "markdown",
   "id": "3e76304d",
   "metadata": {},
   "source": [
    "Теперь мы с уверенностью можем сказать, что размер кредитного лимита различается между группами заемщиков, которые кредит вернули, и которые - нет. И ведь это логично, заемщикам с испорченной кредитной историей взаймы давать будут напорядок меньше (лимит меньше), чем тем, кто добросовестно возвращал кредит, им дают больше: 95%  доверительный интервал на основании бутстрепа показывает, что медианы различаются на [60000, 70000], точечная оценка - 65000."
   ]
  },
  {
   "cell_type": "markdown",
   "id": "0ecede6e",
   "metadata": {},
   "source": [
    "Теперь посмотрим на то, различаются ли входные распределения лимита групп, кто кредит возвращал, а кто - нет. \n",
    "\n",
    "Распределения имеют значительные отклонения от нормального, поэтому применять параметрические критерии даже предусматривающие незначительное отклонения от нормального распределения нельзя, воспользуемся ранговым критерием Манна-Уитни для независимых выборок, проверяется гипотеза о том, что выборки пришли из одинаковых распределений против двусторонней альтернативы о том, что это не так (со сдвигом):\n",
    "\n",
    "$$H_0: F_{X_1(x)} = F_{X_2(x)}$$\n",
    "$$H_1: F_{X_1(x)} = F_{X_2(x + \\Delta)}, \\ \\ \\Delta <\\neq> 0$$"
   ]
  },
  {
   "cell_type": "code",
   "execution_count": 17,
   "id": "cccdec2c",
   "metadata": {},
   "outputs": [
    {
     "data": {
      "text/plain": [
       "MannwhitneyuResult(statistic=59257217.5, pvalue=6.127742909111652e-190)"
      ]
     },
     "execution_count": 17,
     "metadata": {},
     "output_type": "execute_result"
    }
   ],
   "source": [
    "sts.mannwhitneyu(returned_bal['LIMIT_BAL'], non_returned_bal['LIMIT_BAL'])"
   ]
  },
  {
   "cell_type": "markdown",
   "id": "fb9d4a77",
   "metadata": {},
   "source": [
    "Как мы видим, на уровне значимости 0.05 отклоняем $H_0$ c достаточно низким значением достигаемого уровня значимости 6.127742909111652e-190, что дает нам право полагать, что размер кредитного лимита практически значим в задаче кредитного скоринга."
   ]
  },
  {
   "cell_type": "markdown",
   "id": "0f0ce103",
   "metadata": {},
   "source": [
    "# Пол"
   ]
  },
  {
   "cell_type": "code",
   "execution_count": 85,
   "id": "e0779b6e",
   "metadata": {},
   "outputs": [],
   "source": [
    "returned_sex_group = df[df.default == 0].SEX\n",
    "non_returned_sex_group = df[df.default == 1].SEX"
   ]
  },
  {
   "cell_type": "code",
   "execution_count": 86,
   "id": "eca38728",
   "metadata": {},
   "outputs": [
    {
     "data": {
      "text/plain": [
       "2    14349\n",
       "1     9015\n",
       "Name: SEX, dtype: int64"
      ]
     },
     "execution_count": 86,
     "metadata": {},
     "output_type": "execute_result"
    }
   ],
   "source": [
    "returned_sex_group.value_counts()"
   ]
  },
  {
   "cell_type": "code",
   "execution_count": 87,
   "id": "55620476",
   "metadata": {},
   "outputs": [
    {
     "data": {
      "text/plain": [
       "2    3763\n",
       "1    2873\n",
       "Name: SEX, dtype: int64"
      ]
     },
     "execution_count": 87,
     "metadata": {},
     "output_type": "execute_result"
    }
   ],
   "source": [
    "non_returned_sex_group.value_counts()"
   ]
  },
  {
   "cell_type": "markdown",
   "id": "8a916c58",
   "metadata": {},
   "source": [
    "Нельзя делать из этого какие-либо выводы, нужно использовать более обоснованные аргументы о различии гендерного состава в двух группах.\n",
    "\n",
    "В нашем случае будет достаточно использовать параметрический критерий о долях для независимых выборок, а именно, например проверить гипотезу о различии доли мужчин в двух подвыборках (тех кто вернул кредит и нет), ну и построить доверительный интервал для разности долей мужчин.\n",
    "\n",
    "Если обнаружится статистическая значимость среди долей, то это автоматически значит, что и доли женщин также различаются статистически значимо."
   ]
  },
  {
   "cell_type": "markdown",
   "id": "74be8076",
   "metadata": {},
   "source": [
    "## Способ первый: критерий о долях для независимых выборок"
   ]
  },
  {
   "cell_type": "markdown",
   "id": "4e6b5997",
   "metadata": {},
   "source": [
    "Проверим гипотезу о том, что доли мужчин в двух подвыборках различаются (вероятности встретить мужчину в выборках равны, различий нет), против альтернативы, что это не так (вероятности не равны):\n",
    "\n",
    "$$H_0: p_1 - p_2=0$$\n",
    "$$H_0: p_1 - p_2\\neq0$$"
   ]
  },
  {
   "cell_type": "markdown",
   "id": "9d9fd6d2",
   "metadata": {},
   "source": [
    "$$\\hat p_1 = \\frac{men_1}{n_1}, \\hat p_2= \\frac{men_2}{n_2} \\rightarrow \\hat p_1 - \\hat p_2$$\n",
    "\n",
    "$$\\text{Доверительный интервал для } \\hat p_1 - \\hat p_2\\colon \\;\\; \\hat{p}_1 - \\hat{p}_2 \\pm z_{1-\\frac{\\alpha}{2}}\\sqrt{\\frac{\\hat{p}_1(1 - \\hat{p}_1)}{n_1} + \\frac{\\hat{p}_2(1 - \\hat{p}_2)}{n_2}}$$\n",
    "\n",
    "$$Z-статистика: Z({X_1^{n_1}, X_2^{n_2}}) =  \\frac{\\hat{p}_1 - \\hat{p}_2}{\\sqrt{P(1 - P)(\\frac{1}{n_1} + \\frac{1}{n_2})}}$$\n",
    "$$P = \\frac{\\hat{p}_1{n_1} + \\hat{p}_2{n_2}}{{n_1} + {n_2}} $$"
   ]
  },
  {
   "cell_type": "markdown",
   "id": "6bd63d3e",
   "metadata": {},
   "source": [
    "Заменим в выборке 2 - женщины, на 0, чтобы выборка стала бинарной и можно было применить z-test (критерий о долях), основанный на ЦПТ:"
   ]
  },
  {
   "cell_type": "code",
   "execution_count": 119,
   "id": "02430f16",
   "metadata": {},
   "outputs": [],
   "source": [
    "df['SEX_binary'] = df['SEX'].apply(lambda sex: 0 if sex == 2 else 1)\n",
    "\n",
    "returned_sex_group = df[df.default == 0].SEX_binary\n",
    "non_returned_sex_group = df[df.default == 1].SEX_binary"
   ]
  },
  {
   "cell_type": "code",
   "execution_count": 60,
   "id": "d6adc887",
   "metadata": {},
   "outputs": [],
   "source": [
    "def proportions_diff_z_test_ind(f_sample, s_sample, alternative='two-sided'):\n",
    "    possible_alternatives = ('less', 'higher', 'two-sided')\n",
    "    if alternative not in possible_alternatives:\n",
    "        raise ValueError(f'The is no such alternative: {alternative}. '\n",
    "                        f'Choose between {possible_alternatives}')\n",
    "        \n",
    "    p1 = np.sum(f_sample) / len(f_sample)\n",
    "    p2 = np.sum(s_sample) / len(s_sample)\n",
    "    \n",
    "    n1, n2 = len(f_sample), len(s_sample)\n",
    "    \n",
    "    P = (p1*n1 + p2*n2) / (n1 + n2)\n",
    "    \n",
    "    z_stat = (p1 - p2) / (np.sqrt(P * (1 - P) * (1/n1 + 1/n2)))\n",
    "    \n",
    "    p_value = None\n",
    "    if alternative == 'less':\n",
    "        p_value = sts.norm.cdf(z_stat)\n",
    "    if alternative == 'higher':\n",
    "        p_value = 1 - sts.norm.cdf(z_stat)\n",
    "    if alternative == 'two-sided':\n",
    "        p_value = 2 * (1 - sts.norm.cdf(abs(z_stat)))\n",
    "    \n",
    "    return {'alternative': alternative,'p_value': p_value}"
   ]
  },
  {
   "cell_type": "code",
   "execution_count": 91,
   "id": "55bf0b69",
   "metadata": {},
   "outputs": [
    {
     "data": {
      "text/plain": [
       "{'alternative': 'two-sided', 'p_value': 4.472866521609831e-12}"
      ]
     },
     "execution_count": 91,
     "metadata": {},
     "output_type": "execute_result"
    }
   ],
   "source": [
    "proportions_diff_z_test_ind(returned_sex_group, non_returned_sex_group, alternative='two-sided')"
   ]
  },
  {
   "cell_type": "markdown",
   "id": "22907089",
   "metadata": {},
   "source": [
    "Как мы видим, z-test для разности двух долей мужчин в выборках различается статистически значимо. Отклояем $H_0$ о равенстве долей мужчин, соответственно это значит, что и доля женщин также отличается статистически значимо (принимаем $H_1$).\n",
    "\n",
    "В целом получаем, что гендерный состав в группах людей которые вернули/нет кредит - различается."
   ]
  },
  {
   "cell_type": "markdown",
   "id": "1ca58c98",
   "metadata": {},
   "source": [
    "## Способ второй: доверительный интервал для разности долей двух подвыборок"
   ]
  },
  {
   "cell_type": "markdown",
   "id": "01d05b05",
   "metadata": {},
   "source": [
    "$$\\text{Доверительный интервал для } \\hat p_1 - \\hat p_2\\colon \\;\\; \\hat{p}_1 - \\hat{p}_2 \\pm z_{1-\\frac{\\alpha}{2}}\\sqrt{\\frac{\\hat{p}_1(1 - \\hat{p}_1)}{n_1} + \\frac{\\hat{p}_2(1 - \\hat{p}_2)}{n_2}}$$"
   ]
  },
  {
   "cell_type": "code",
   "execution_count": 92,
   "id": "8dcc52a8",
   "metadata": {},
   "outputs": [],
   "source": [
    "def proportions_diff_confint_ind(f_sample, s_sample, alpha=.05):\n",
    "    z = sts.norm.ppf(1 - alpha/2)\n",
    "    \n",
    "    p1 = np.sum(f_sample) / len(f_sample)\n",
    "    p2 = np.sum(s_sample) / len(s_sample)\n",
    "    \n",
    "    n1, n2 = len(f_sample), len(s_sample)\n",
    "    \n",
    "    left_bound = p1 - p2 - z * np.sqrt(p1*(1 - p1)/n1 + p2*(1 - p2)/n2)\n",
    "    right_bound = p1 - p2 + z * np.sqrt(p1*(1 - p1)/n1 + p2*(1 - p2)/n2)\n",
    "\n",
    "    return {f'{(1 - alpha)*100}% confint': (left_bound, right_bound)}"
   ]
  },
  {
   "cell_type": "code",
   "execution_count": 93,
   "id": "0d4a0a08",
   "metadata": {},
   "outputs": [
    {
     "data": {
      "text/plain": [
       "{'95.0% confint': (-0.060548077974896725, -0.03363493274962867)}"
      ]
     },
     "execution_count": 93,
     "metadata": {},
     "output_type": "execute_result"
    }
   ],
   "source": [
    "proportions_diff_confint_ind(returned_sex_group, non_returned_sex_group, alpha=.05)"
   ]
  },
  {
   "cell_type": "markdown",
   "id": "a3ff4647",
   "metadata": {},
   "source": [
    "Здесь мы видим, что 95% доверительный интервал для разности долей мужчин лежит левее нуля, что свидетельствует о том, что доли в двух подвыборках неравны, более того, доля мужчин вернувших кредит меньше, чем не вернувших.\n",
    "\n",
    "Точечная оценка 95% доверительного интервала --    -0.04709"
   ]
  },
  {
   "cell_type": "markdown",
   "id": "e977bc75",
   "metadata": {},
   "source": [
    "Подводя итог, можно сказать, что мужчины реже берут кредит, но чаще его не возвращают. Так как разница долей статистически значима, то признак `SEX` должен учитываться при построении модели."
   ]
  },
  {
   "cell_type": "markdown",
   "id": "259d8475",
   "metadata": {},
   "source": [
    "# Образование\n"
   ]
  },
  {
   "cell_type": "code",
   "execution_count": 120,
   "id": "3471206a",
   "metadata": {},
   "outputs": [],
   "source": [
    "def convert_edu_labels(label):\n",
    "    if label == 0:\n",
    "        return 'phd'\n",
    "    if label == 1:\n",
    "        return 'master'\n",
    "    if label == 2:\n",
    "        return 'bachelor'\n",
    "    if label == 3:\n",
    "        return 'school graduate'\n",
    "    if label == 4:\n",
    "        return 'elementary education'\n",
    "    if label == 5:\n",
    "        return 'other'\n",
    "    if label == 6:\n",
    "        return 'no info'"
   ]
  },
  {
   "cell_type": "code",
   "execution_count": 121,
   "id": "35a13fa7",
   "metadata": {},
   "outputs": [],
   "source": [
    "df['EDUCATION_labels'] = df['EDUCATION'].apply(convert_edu_labels)\n",
    "df['default_labels'] = df['default'].apply(lambda x: 'non_returned' if x == 1 else 'returned')"
   ]
  },
  {
   "cell_type": "code",
   "execution_count": 122,
   "id": "bc337f1c",
   "metadata": {},
   "outputs": [
    {
     "data": {
      "text/plain": [
       "<AxesSubplot:xlabel='EDUCATION_labels', ylabel='count'>"
      ]
     },
     "execution_count": 122,
     "metadata": {},
     "output_type": "execute_result"
    },
    {
     "data": {
      "image/png": "[encoded data removed]",
      "text/plain": [
       "<Figure size 864x504 with 1 Axes>"
      ]
     },
     "metadata": {},
     "output_type": "display_data"
    }
   ],
   "source": [
    "sns.countplot(data=df, x='EDUCATION_labels', hue='default_labels')"
   ]
  },
  {
   "cell_type": "code",
   "execution_count": 143,
   "id": "725e5739",
   "metadata": {},
   "outputs": [
    {
     "data": {
      "text/plain": [
       "<AxesSubplot:xlabel='EDUCATION_labels', ylabel='Count'>"
      ]
     },
     "execution_count": 143,
     "metadata": {},
     "output_type": "execute_result"
    },
    {
     "data": {
      "image/png": "[encoded data removed]",
      "text/plain": [
       "<Figure size 864x504 with 1 Axes>"
      ]
     },
     "metadata": {},
     "output_type": "display_data"
    }
   ],
   "source": [
    "sns.histplot(data=df, x='EDUCATION_labels', hue='default_labels')"
   ]
  },
  {
   "cell_type": "markdown",
   "id": "d9d725e0",
   "metadata": {},
   "source": [
    "Видно, что чаще всего берут кредит бакалавры и магистры, выпускники школы реже, доктора почти не берут, чаще всего не возвращают бакалавры из тех что берут. "
   ]
  },
  {
   "cell_type": "markdown",
   "id": "de1e5822",
   "metadata": {},
   "source": [
    "Теперь создадим таблицу сопряженности, где будет хранится количество людей со всеми уровнями образования в двух подвыборках."
   ]
  },
  {
   "cell_type": "code",
   "execution_count": 160,
   "id": "83e4e7eb",
   "metadata": {},
   "outputs": [],
   "source": [
    "education_levels = ['phd', 'master', 'bachelor', 'hs_graduate', 'elementary_edu', 'other', 'no_info']\n",
    "\n",
    "returned_group_edu = df[df.default == 0].EDUCATION\n",
    "non_returned_group_edu = df[df.default == 1].EDUCATION\n",
    "\n",
    "adjacency_matrix = pd.DataFrame({'returned': returned_group_edu.value_counts(), \\\n",
    "                                 'non_returned': non_returned_group_edu.value_counts()})\n",
    "\n",
    "for i, edu_level in enumerate(education_levels):\n",
    "    adjacency_matrix.rename(index={i: edu_level}, inplace = True)\n",
    "    \n",
    "adjacency_matrix.iloc[0, 1] = 0"
   ]
  },
  {
   "cell_type": "code",
   "execution_count": 161,
   "id": "d1e4ef58",
   "metadata": {},
   "outputs": [
    {
     "data": {
      "text/html": [
       "<div>\n",
       "<style scoped>\n",
       "    .dataframe tbody tr th:only-of-type {\n",
       "        vertical-align: middle;\n",
       "    }\n",
       "\n",
       "    .dataframe tbody tr th {\n",
       "        vertical-align: top;\n",
       "    }\n",
       "\n",
       "    .dataframe thead th {\n",
       "        text-align: right;\n",
       "    }\n",
       "</style>\n",
       "<table border=\"1\" class=\"dataframe\">\n",
       "  <thead>\n",
       "    <tr style=\"text-align: right;\">\n",
       "      <th></th>\n",
       "      <th>returned</th>\n",
       "      <th>non_returned</th>\n",
       "    </tr>\n",
       "  </thead>\n",
       "  <tbody>\n",
       "    <tr>\n",
       "      <th>phd</th>\n",
       "      <td>14</td>\n",
       "      <td>0.0</td>\n",
       "    </tr>\n",
       "    <tr>\n",
       "      <th>master</th>\n",
       "      <td>8549</td>\n",
       "      <td>2036.0</td>\n",
       "    </tr>\n",
       "    <tr>\n",
       "      <th>bachelor</th>\n",
       "      <td>10700</td>\n",
       "      <td>3330.0</td>\n",
       "    </tr>\n",
       "    <tr>\n",
       "      <th>hs_graduate</th>\n",
       "      <td>3680</td>\n",
       "      <td>1237.0</td>\n",
       "    </tr>\n",
       "    <tr>\n",
       "      <th>elementary_edu</th>\n",
       "      <td>116</td>\n",
       "      <td>7.0</td>\n",
       "    </tr>\n",
       "    <tr>\n",
       "      <th>other</th>\n",
       "      <td>262</td>\n",
       "      <td>18.0</td>\n",
       "    </tr>\n",
       "    <tr>\n",
       "      <th>no_info</th>\n",
       "      <td>43</td>\n",
       "      <td>8.0</td>\n",
       "    </tr>\n",
       "  </tbody>\n",
       "</table>\n",
       "</div>"
      ],
      "text/plain": [
       "                returned  non_returned\n",
       "phd                   14           0.0\n",
       "master              8549        2036.0\n",
       "bachelor           10700        3330.0\n",
       "hs_graduate         3680        1237.0\n",
       "elementary_edu       116           7.0\n",
       "other                262          18.0\n",
       "no_info               43           8.0"
      ]
     },
     "execution_count": 161,
     "metadata": {},
     "output_type": "execute_result"
    }
   ],
   "source": [
    "adjacency_matrix"
   ]
  },
  {
   "cell_type": "markdown",
   "id": "343fe033",
   "metadata": {},
   "source": [
    "В таблице сопряженности значения - типичные счетчики, поэтому можно попробовать оценить распределением Пуассона.\n",
    "Лучшая оценка на параметр $\\lambda$ - типичное среднее, возьмем 2"
   ]
  },
  {
   "cell_type": "code",
   "execution_count": 145,
   "id": "ec4d1a07",
   "metadata": {},
   "outputs": [
    {
     "data": {
      "text/plain": [
       "1.8531333333333333"
      ]
     },
     "execution_count": 145,
     "metadata": {},
     "output_type": "execute_result"
    }
   ],
   "source": [
    "df.EDUCATION.mean()"
   ]
  },
  {
   "cell_type": "markdown",
   "id": "2227f58b",
   "metadata": {},
   "source": [
    "Проверим гипотезу о том, что наша случайная величина принадлежит распределению Пуассона с $\\lambda = 2$ против альтернативы что это не так"
   ]
  },
  {
   "cell_type": "code",
   "execution_count": 150,
   "id": "abf9c1a2",
   "metadata": {},
   "outputs": [],
   "source": [
    "chi2, p_value, dof, ex = sts.chi2_contingency(adjacency_matrix, correction=False)"
   ]
  },
  {
   "cell_type": "code",
   "execution_count": 151,
   "id": "273e437d",
   "metadata": {},
   "outputs": [
    {
     "data": {
      "text/plain": [
       "1.2332626245415605e-32"
      ]
     },
     "execution_count": 151,
     "metadata": {},
     "output_type": "execute_result"
    }
   ],
   "source": [
    "p_value"
   ]
  },
  {
   "cell_type": "markdown",
   "id": "a1dd4ee8",
   "metadata": {},
   "source": [
    "Можем смело отвергнуть $H_0$ на уровне значимости $0.05$ о том, что это распределение Пуассона с достигаемым уровнем значимости 1.2332626245415605e-32.\n",
    "\n",
    "Признак `EDUCATION` является статистически значимым в оценке вероятности возврата кредита."
   ]
  },
  {
   "cell_type": "markdown",
   "id": "5829522f",
   "metadata": {},
   "source": [
    "# Семейное положение"
   ]
  },
  {
   "cell_type": "code",
   "execution_count": 155,
   "id": "37d3a441",
   "metadata": {},
   "outputs": [
    {
     "data": {
      "text/plain": [
       "2    12623\n",
       "1    10453\n",
       "3      239\n",
       "0       49\n",
       "Name: MARRIAGE, dtype: int64"
      ]
     },
     "execution_count": 155,
     "metadata": {},
     "output_type": "execute_result"
    }
   ],
   "source": [
    "df[df.default == 0].MARRIAGE.value_counts()"
   ]
  },
  {
   "cell_type": "code",
   "execution_count": 156,
   "id": "6234b1b3",
   "metadata": {},
   "outputs": [
    {
     "data": {
      "text/plain": [
       "2    3341\n",
       "1    3206\n",
       "3      84\n",
       "0       5\n",
       "Name: MARRIAGE, dtype: int64"
      ]
     },
     "execution_count": 156,
     "metadata": {},
     "output_type": "execute_result"
    }
   ],
   "source": [
    "df[df.default == 1].MARRIAGE.value_counts()"
   ]
  },
  {
   "cell_type": "markdown",
   "id": "08b71992",
   "metadata": {},
   "source": [
    "Проверить взаимосвязь признаков можно проверить с помощью коэффициента V Крамера, он подходит хорошо, так как рассматриваемый признак категориальный."
   ]
  },
  {
   "cell_type": "code",
   "execution_count": 176,
   "id": "408e25b5",
   "metadata": {},
   "outputs": [],
   "source": [
    "def v_cramer(chi_stat, n, shape):\n",
    "    return np.sqrt(chi_stat / n / (min(shape[0], shape[1]) - 1))"
   ]
  },
  {
   "cell_type": "code",
   "execution_count": 173,
   "id": "c83a835a",
   "metadata": {},
   "outputs": [],
   "source": [
    "marriage_status = ['reject_to_answer', 'married', 'single', 'no_data']\n",
    "\n",
    "returned_group_marr = df[df.default == 0].MARRIAGE\n",
    "non_returned_group_marr = df[df.default == 1].MARRIAGE\n",
    "\n",
    "adjacency_matrix_marriage = pd.DataFrame({'returned': returned_group_marr.value_counts(), \\\n",
    "                                         'non_returned': non_returned_group_marr.value_counts()})\n",
    "\n",
    "for i, marr_stat in enumerate(marriage_status):\n",
    "    adjacency_matrix_marriage.rename(index={i: marr_stat}, inplace = True)"
   ]
  },
  {
   "cell_type": "code",
   "execution_count": 177,
   "id": "3083d7d6",
   "metadata": {},
   "outputs": [
    {
     "data": {
      "text/plain": [
       "0.034478203662766466"
      ]
     },
     "execution_count": 177,
     "metadata": {},
     "output_type": "execute_result"
    }
   ],
   "source": [
    "chi_stat = sts.chi2_contingency(adjacency_matrix_marriage, correction=False)[0]\n",
    "n = len(df)\n",
    "adj_matr_shape = adjacency_matrix_marriage.shape\n",
    "\n",
    "v_cramer(chi_stat, n, adj_matr_shape)"
   ]
  },
  {
   "cell_type": "markdown",
   "id": "f020c623",
   "metadata": {},
   "source": [
    "Как мы видим, взаимосвязь между целевой переменной и признаком `MARRIAGE`, измеренная с помощью коэффициента V Крамера достаточно низкая, поэтому, этот признак включать в модель не стоит, он имеет низкую корреляцию с целевой переменной."
   ]
  },
  {
   "cell_type": "markdown",
   "id": "855a32d6",
   "metadata": {},
   "source": [
    "# Возраст"
   ]
  },
  {
   "cell_type": "markdown",
   "id": "6d113cc9",
   "metadata": {},
   "source": [
    "Как и в случае признака кредитного лимита воспользуемся непараметрическим критерием Манна-Уитни"
   ]
  },
  {
   "cell_type": "code",
   "execution_count": 181,
   "id": "f8846242",
   "metadata": {},
   "outputs": [],
   "source": [
    "returned_bal_age = df[df.default == 0]\n",
    "non_returned_bal_age = df[df.default == 1]"
   ]
  },
  {
   "cell_type": "code",
   "execution_count": 198,
   "id": "81718dd6",
   "metadata": {},
   "outputs": [
    {
     "data": {
      "text/plain": [
       "<AxesSubplot:xlabel='AGE', ylabel='Count'>"
      ]
     },
     "execution_count": 198,
     "metadata": {},
     "output_type": "execute_result"
    },
    {
     "data": {
      "image/png": "[encoded data removed]",
      "text/plain": [
       "<Figure size 864x504 with 2 Axes>"
      ]
     },
     "metadata": {},
     "output_type": "display_data"
    }
   ],
   "source": [
    "_, ax = plt.subplots(2)\n",
    "\n",
    "sns.histplot(data=returned_bal_age, x='AGE', color='g', ax=ax[0], bins=30)\n",
    "sns.histplot(data=non_returned_bal_age, x='AGE', color='r', ax=ax[1], bins=30)"
   ]
  },
  {
   "cell_type": "code",
   "execution_count": 206,
   "id": "4680a701",
   "metadata": {},
   "outputs": [
    {
     "data": {
      "text/plain": [
       "((array([-4.01544493, -3.80115573, -3.68397676, ...,  3.68397676,\n",
       "          3.80115573,  4.01544493]),\n",
       "  array([21, 21, 21, ..., 75, 75, 79])),\n",
       " (8.846969314068657, 35.417265879130284, 0.974478998779362))"
      ]
     },
     "execution_count": 206,
     "metadata": {},
     "output_type": "execute_result"
    },
    {
     "data": {
      "image/png": "[encoded data removed]",
      "text/plain": [
       "<Figure size 864x504 with 1 Axes>"
      ]
     },
     "metadata": {},
     "output_type": "display_data"
    }
   ],
   "source": [
    "sts.probplot(returned_bal_age['AGE'], dist='norm', plot=plt)"
   ]
  },
  {
   "cell_type": "code",
   "execution_count": 207,
   "id": "ff465ad2",
   "metadata": {},
   "outputs": [
    {
     "data": {
      "text/plain": [
       "((array([-3.70801024, -3.47700165, -3.34989414, ...,  3.34989414,\n",
       "          3.47700165,  3.70801024]),\n",
       "  array([21, 21, 21, ..., 73, 73, 75])),\n",
       " (9.453763999193253, 35.72573839662447, 0.9748432681275312))"
      ]
     },
     "execution_count": 207,
     "metadata": {},
     "output_type": "execute_result"
    },
    {
     "data": {
      "image/png": "[encoded data removed]",
      "text/plain": [
       "<Figure size 864x504 with 1 Axes>"
      ]
     },
     "metadata": {},
     "output_type": "display_data"
    }
   ],
   "source": [
    "sts.probplot(non_returned_bal_age['AGE'], dist='norm', plot=plt)"
   ]
  },
  {
   "cell_type": "markdown",
   "id": "6d314e73",
   "metadata": {},
   "source": [
    "Здесь уже менее значительные отклонения, но все равно они есть, поэтому снова воспользуемся непараметрическим критерием Манна-Уитни и доверительным интервалом для разности медиан на основании бутстрепа:\n",
    "\n",
    "$$H_0\\colon F_{X_{1}}(x) = F_{X_{2}}(x)$$\n",
    "$$H_1\\colon F_{X_{1}}(x) = F_{X_{2}}(x + \\Delta), \\Delta\\neq 0$$"
   ]
  },
  {
   "cell_type": "markdown",
   "id": "c4f8e759",
   "metadata": {},
   "source": [
    "## Способ первый: Критерий Манна-Уитни"
   ]
  },
  {
   "cell_type": "code",
   "execution_count": 208,
   "id": "cc787b11",
   "metadata": {},
   "outputs": [
    {
     "data": {
      "text/plain": [
       "MannwhitneyuResult(statistic=76966879.5, pvalue=0.1862517717449308)"
      ]
     },
     "execution_count": 208,
     "metadata": {},
     "output_type": "execute_result"
    }
   ],
   "source": [
    "sts.mannwhitneyu(returned_bal_age['AGE'], non_returned_bal_age['AGE'])"
   ]
  },
  {
   "cell_type": "markdown",
   "id": "33890bc5",
   "metadata": {},
   "source": [
    "На уровне значимости 0.05 мы не можем отклонить $H_0$ о том, что медианы в подвыборках не различаются с достигаемым уровнем значимости 0.1862517717449308"
   ]
  },
  {
   "cell_type": "markdown",
   "id": "5cfe9598",
   "metadata": {},
   "source": [
    "## Способ второй: Доверительный интервал на основании бутстрепа для разности медиан"
   ]
  },
  {
   "cell_type": "code",
   "execution_count": 210,
   "id": "8a67a718",
   "metadata": {},
   "outputs": [],
   "source": [
    "n_samples = 2500\n",
    "alpha = 0.05\n",
    "\n",
    "stat_sample_r = np.array(list(map(np.median, get_bootstrap_samples(returned_bal_age['AGE'].values, n_samples))))\n",
    "stat_sample_nr = np.array(list(map(np.median, get_bootstrap_samples(non_returned_bal_age['AGE'].values, n_samples))))\n",
    "\n",
    "diff_stat_sample = stat_sample_r - stat_sample_nr"
   ]
  },
  {
   "cell_type": "code",
   "execution_count": 211,
   "id": "4221ee35",
   "metadata": {},
   "outputs": [
    {
     "name": "stdout",
     "output_type": "stream",
     "text": [
      "95.0% confint for people, who returned a credit: [34. 34.]\n",
      "\t\t\t  who not return a credit: [34. 35.]\n",
      "\n",
      "Or, for difference between r/nr samples: [-1.  0.]\n"
     ]
    }
   ],
   "source": [
    "print(f'{100 - 100*alpha}% confint for people, who returned a credit: '\n",
    "      f'{build_confint(stat_sample_r ,alpha=alpha)}\\n'\n",
    "      f'\\t\\t\\t  who not return a credit: {build_confint(stat_sample_nr, alpha=alpha)}\\n')\n",
    "\n",
    "print(f'Or, for difference between r/nr samples: {build_confint(diff_stat_sample, alpha=alpha)}')"
   ]
  },
  {
   "cell_type": "markdown",
   "id": "805ee301",
   "metadata": {},
   "source": [
    "Здесь все тоже очевидно, 0 входит в доверительный интервал для разности медиан, что свидетельствует о том, что на уровне значимости 0.05 мы не можем отклонить $H_0$ о неразличии медиан, т.е мы не можем утверждать что медианы в подвыборках различаются.\n",
    "\n",
    "Данный признак в модель включать не стоит, так как мы не можем никак утверждать, что он как-то влияет на целевой признак `default`"
   ]
  }
 ],
 "metadata": {
  "kernelspec": {
   "display_name": "Python 3",
   "language": "python",
   "name": "python3"
  },
  "language_info": {
   "codemirror_mode": {
    "name": "ipython",
    "version": 3
   },
   "file_extension": ".py",
   "mimetype": "text/x-python",
   "name": "python",
   "nbconvert_exporter": "python",
   "pygments_lexer": "ipython3",
   "version": "3.8.8"
  },
  "latex_envs": {
   "LaTeX_envs_menu_present": true,
   "autoclose": false,
   "autocomplete": true,
   "bibliofile": "biblio.bib",
   "cite_by": "apalike",
   "current_citInitial": 1,
   "eqLabelWithNumbers": true,
   "eqNumInitial": 1,
   "hotkeys": {
    "equation": "Ctrl-E",
    "itemize": "Ctrl-I"
   },
   "labels_anchors": false,
   "latex_user_defs": false,
   "report_style_numbering": false,
   "user_envs_cfg": false
  },
  "nbTranslate": {
   "displayLangs": [
    "*"
   ],
   "hotkey": "alt-t",
   "langInMainMenu": true,
   "sourceLang": "en",
   "targetLang": "fr",
   "useGoogleTranslate": true
  }
 },
 "nbformat": 4,
 "nbformat_minor": 5
}
